{
 "cells": [
  {
   "cell_type": "code",
   "execution_count": 3,
   "metadata": {},
   "outputs": [],
   "source": [
    "import numpy as np\n",
    "import pandas as pd\n",
    "import json\n",
    "import csv"
   ]
  },
  {
   "cell_type": "code",
   "execution_count": 5,
   "metadata": {},
   "outputs": [],
   "source": [
    "with open('Cloud.txt') as f:\n",
    "    temp = f.read()\n",
    "\n",
    "temp = temp.replace('  ', '')\n",
    "temp = temp.replace('][', '],[')\n",
    "temp = temp.replace(' ', ',')\n",
    "temp = temp.replace('\\n\\n', ',')\n",
    "temp = temp.replace('\\n', ',')\n",
    "temp = temp.replace(',,', ',')\n",
    "temp = '[' + temp + ']'\n",
    "\n",
    "text_file = open('test1.txt', 'w')\n",
    "n = text_file.write(temp)\n",
    "text_file.close()\n",
    "   \n",
    "with open('test1.txt') as file:\n",
    "    lst = json.load(file)\n"
   ]
  },
  {
   "cell_type": "code",
   "execution_count": 6,
   "metadata": {},
   "outputs": [],
   "source": [
    "with open('Yusam.txt') as f:\n",
    "    temp = f.read()\n",
    "\n",
    "temp = temp.replace('  ', '')\n",
    "temp = temp.replace('][', '],[')\n",
    "temp = temp.replace(' ', ',')\n",
    "temp = temp.replace('\\n\\n', ',')\n",
    "temp = temp.replace('\\n', ',')\n",
    "temp = temp.replace(',,', ',')\n",
    "temp = '[' + temp + ']'\n",
    "\n",
    "text_file = open('test2.txt', 'w')\n",
    "n = text_file.write(temp)\n",
    "text_file.close()\n",
    "   \n",
    "with open('test2.txt') as file:\n",
    "    lst = json.load(file)\n"
   ]
  },
  {
   "cell_type": "code",
   "execution_count": 50,
   "metadata": {},
   "outputs": [],
   "source": [
    "with open('test1.txt', 'r') as file:\n",
    "    data = file.read()\n",
    "cloud = eval(data)"
   ]
  },
  {
   "cell_type": "code",
   "execution_count": 48,
   "metadata": {},
   "outputs": [],
   "source": [
    "with open('test2.txt', 'r') as file:\n",
    "    data = file.read()\n",
    "yusam = eval(data)"
   ]
  },
  {
   "cell_type": "code",
   "execution_count": 95,
   "metadata": {},
   "outputs": [
    {
     "name": "stdout",
     "output_type": "stream",
     "text": [
      "[574.50299, 441.28235, 0.64646888]\n"
     ]
    }
   ],
   "source": [
    "print(yusam[5][0][2])"
   ]
  },
  {
   "cell_type": "code",
   "execution_count": 89,
   "metadata": {},
   "outputs": [],
   "source": [
    "yusam1 = [[j for k in i for j in k] for i in yusam]"
   ]
  },
  {
   "cell_type": "code",
   "execution_count": 4,
   "metadata": {},
   "outputs": [
    {
     "ename": "ValueError",
     "evalue": "Wrong number of columns at line 25",
     "output_type": "error",
     "traceback": [
      "\u001b[0;31m---------------------------------------------------------------------------\u001b[0m",
      "\u001b[0;31mValueError\u001b[0m                                Traceback (most recent call last)",
      "\u001b[1;32m/Users/leunghon/513/FinalProject.ipynb Cell 7\u001b[0m in \u001b[0;36m<cell line: 2>\u001b[0;34m()\u001b[0m\n\u001b[1;32m      <a href='vscode-notebook-cell:/Users/leunghon/513/FinalProject.ipynb#X12sZmlsZQ%3D%3D?line=0'>1</a>\u001b[0m \u001b[39m# load the data from the txt file\u001b[39;00m\n\u001b[0;32m----> <a href='vscode-notebook-cell:/Users/leunghon/513/FinalProject.ipynb#X12sZmlsZQ%3D%3D?line=1'>2</a>\u001b[0m data_str \u001b[39m=\u001b[39m np\u001b[39m.\u001b[39;49mloadtxt(\u001b[39m'\u001b[39;49m\u001b[39mCloud.txt\u001b[39;49m\u001b[39m'\u001b[39;49m, dtype\u001b[39m=\u001b[39;49m\u001b[39m'\u001b[39;49m\u001b[39mstr\u001b[39;49m\u001b[39m'\u001b[39;49m)\n\u001b[1;32m      <a href='vscode-notebook-cell:/Users/leunghon/513/FinalProject.ipynb#X12sZmlsZQ%3D%3D?line=3'>4</a>\u001b[0m \u001b[39m# parse the string into a three-dimensional array of floats\u001b[39;00m\n\u001b[1;32m      <a href='vscode-notebook-cell:/Users/leunghon/513/FinalProject.ipynb#X12sZmlsZQ%3D%3D?line=4'>5</a>\u001b[0m data_float \u001b[39m=\u001b[39m np\u001b[39m.\u001b[39marray([[[\u001b[39mfloat\u001b[39m(n) \u001b[39mfor\u001b[39;00m n \u001b[39min\u001b[39;00m inner\u001b[39m.\u001b[39msplit(\u001b[39m'\u001b[39m\u001b[39m,\u001b[39m\u001b[39m'\u001b[39m)] \u001b[39mfor\u001b[39;00m inner \u001b[39min\u001b[39;00m outer\u001b[39m.\u001b[39msplit(\u001b[39m'\u001b[39m\u001b[39m],[\u001b[39m\u001b[39m'\u001b[39m)] \u001b[39mfor\u001b[39;00m outer \u001b[39min\u001b[39;00m data_str])\n",
      "File \u001b[0;32m~/opt/anaconda3/lib/python3.9/site-packages/numpy/lib/npyio.py:1148\u001b[0m, in \u001b[0;36mloadtxt\u001b[0;34m(fname, dtype, comments, delimiter, converters, skiprows, usecols, unpack, ndmin, encoding, max_rows, like)\u001b[0m\n\u001b[1;32m   1143\u001b[0m \u001b[39m# read data in chunks and fill it into an array via resize\u001b[39;00m\n\u001b[1;32m   1144\u001b[0m \u001b[39m# over-allocating and shrinking the array later may be faster but is\u001b[39;00m\n\u001b[1;32m   1145\u001b[0m \u001b[39m# probably not relevant compared to the cost of actually reading and\u001b[39;00m\n\u001b[1;32m   1146\u001b[0m \u001b[39m# converting the data\u001b[39;00m\n\u001b[1;32m   1147\u001b[0m X \u001b[39m=\u001b[39m \u001b[39mNone\u001b[39;00m\n\u001b[0;32m-> 1148\u001b[0m \u001b[39mfor\u001b[39;00m x \u001b[39min\u001b[39;00m read_data(_loadtxt_chunksize):\n\u001b[1;32m   1149\u001b[0m     \u001b[39mif\u001b[39;00m X \u001b[39mis\u001b[39;00m \u001b[39mNone\u001b[39;00m:\n\u001b[1;32m   1150\u001b[0m         X \u001b[39m=\u001b[39m np\u001b[39m.\u001b[39marray(x, dtype)\n",
      "File \u001b[0;32m~/opt/anaconda3/lib/python3.9/site-packages/numpy/lib/npyio.py:995\u001b[0m, in \u001b[0;36mloadtxt.<locals>.read_data\u001b[0;34m(chunk_size)\u001b[0m\n\u001b[1;32m    993\u001b[0m \u001b[39mif\u001b[39;00m \u001b[39mlen\u001b[39m(vals) \u001b[39m!=\u001b[39m N:\n\u001b[1;32m    994\u001b[0m     line_num \u001b[39m=\u001b[39m i \u001b[39m+\u001b[39m skiprows \u001b[39m+\u001b[39m \u001b[39m1\u001b[39m\n\u001b[0;32m--> 995\u001b[0m     \u001b[39mraise\u001b[39;00m \u001b[39mValueError\u001b[39;00m(\u001b[39m\"\u001b[39m\u001b[39mWrong number of columns at line \u001b[39m\u001b[39m%d\u001b[39;00m\u001b[39m\"\u001b[39m\n\u001b[1;32m    996\u001b[0m                      \u001b[39m%\u001b[39m line_num)\n\u001b[1;32m    998\u001b[0m \u001b[39m# Convert each value according to its column and store\u001b[39;00m\n\u001b[1;32m    999\u001b[0m items \u001b[39m=\u001b[39m [conv(val) \u001b[39mfor\u001b[39;00m (conv, val) \u001b[39min\u001b[39;00m \u001b[39mzip\u001b[39m(converters, vals)]\n",
      "\u001b[0;31mValueError\u001b[0m: Wrong number of columns at line 25"
     ]
    }
   ],
   "source": [
    "# load the data from the txt file\n",
    "data_str = np.loadtxt('Cloud.txt', dtype='str')\n",
    "\n",
    "# parse the string into a three-dimensional array of floats\n",
    "data_float = np.array([[[float(n) for n in inner.split(',')] for inner in outer.split('],[')] for outer in data_str])\n",
    "\n",
    "# print the new data\n",
    "print(data_float)"
   ]
  },
  {
   "cell_type": "code",
   "execution_count": 6,
   "metadata": {},
   "outputs": [
    {
     "name": "stdout",
     "output_type": "stream",
     "text": [
      "[nan nan nan ... nan nan nan]\n"
     ]
    }
   ],
   "source": [
    "data = np.genfromtxt('Cloud.txt', delimiter=',')\n",
    "print(data)\n"
   ]
  }
 ],
 "metadata": {
  "kernelspec": {
   "display_name": "Python 3",
   "language": "python",
   "name": "python3"
  },
  "language_info": {
   "codemirror_mode": {
    "name": "ipython",
    "version": 3
   },
   "file_extension": ".py",
   "mimetype": "text/x-python",
   "name": "python",
   "nbconvert_exporter": "python",
   "pygments_lexer": "ipython3",
   "version": "3.9.12"
  },
  "orig_nbformat": 4
 },
 "nbformat": 4,
 "nbformat_minor": 2
}
