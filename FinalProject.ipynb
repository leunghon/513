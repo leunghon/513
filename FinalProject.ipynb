{
 "cells": [
  {
   "cell_type": "code",
   "execution_count": 3,
   "metadata": {},
   "outputs": [],
   "source": [
    "import numpy as np\n",
    "import pandas as pd\n",
    "import json\n",
    "import csv"
   ]
  },
  {
   "cell_type": "code",
   "execution_count": 5,
   "metadata": {},
   "outputs": [],
   "source": [
    "with open('Cloud.txt') as f:\n",
    "    temp = f.read()\n",
    "\n",
    "temp = temp.replace('  ', '')\n",
    "temp = temp.replace('][', '],[')\n",
    "temp = temp.replace(' ', ',')\n",
    "temp = temp.replace('\\n\\n', ',')\n",
    "temp = temp.replace('\\n', ',')\n",
    "temp = temp.replace(',,', ',')\n",
    "temp = '[' + temp + ']'\n",
    "\n",
    "text_file = open('test1.txt', 'w')\n",
    "n = text_file.write(temp)\n",
    "text_file.close()\n",
    "   \n",
    "with open('test1.txt') as file:\n",
    "    lst = json.load(file)\n"
   ]
  },
  {
   "cell_type": "code",
   "execution_count": 6,
   "metadata": {},
   "outputs": [],
   "source": [
    "with open('Yusam.txt') as f:\n",
    "    temp = f.read()\n",
    "\n",
    "temp = temp.replace('  ', '')\n",
    "temp = temp.replace('][', '],[')\n",
    "temp = temp.replace(' ', ',')\n",
    "temp = temp.replace('\\n\\n', ',')\n",
    "temp = temp.replace('\\n', ',')\n",
    "temp = temp.replace(',,', ',')\n",
    "temp = '[' + temp + ']'\n",
    "\n",
    "text_file = open('test2.txt', 'w')\n",
    "n = text_file.write(temp)\n",
    "text_file.close()\n",
    "   \n",
    "with open('test2.txt') as file:\n",
    "    lst = json.load(file)\n"
   ]
  },
  {
   "cell_type": "code",
   "execution_count": 50,
   "metadata": {},
   "outputs": [],
   "source": [
    "with open('test1.txt', 'r') as file:\n",
    "    data = file.read()\n",
    "cloud = eval(data)"
   ]
  },
  {
   "cell_type": "code",
   "execution_count": 48,
   "metadata": {},
   "outputs": [],
   "source": [
    "with open('test2.txt', 'r') as file:\n",
    "    data = file.read()\n",
    "yusam = eval(data)"
   ]
  },
  {
   "cell_type": "code",
   "execution_count": 95,
   "metadata": {},
   "outputs": [
    {
     "name": "stdout",
     "output_type": "stream",
     "text": [
      "[574.50299, 441.28235, 0.64646888]\n"
     ]
    }
   ],
   "source": [
    "print(yusam[5][0][2])"
   ]
  },
  {
   "cell_type": "code",
   "execution_count": 89,
   "metadata": {},
   "outputs": [],
   "source": [
    "yusam1 = [[j for k in i for j in k] for i in yusam]"
   ]
  },
  {
   "cell_type": "code",
   "execution_count": 180,
   "metadata": {},
   "outputs": [
    {
     "name": "stdout",
     "output_type": "stream",
     "text": [
      "[582.36731, 339.51001, 0.809656024]\n"
     ]
    }
   ],
   "source": [
    "print(yusam1[0][0])"
   ]
  },
  {
   "cell_type": "code",
   "execution_count": 94,
   "metadata": {},
   "outputs": [],
   "source": [
    "cloud1 = [[j for k in i for j in k] for i in cloud]"
   ]
  },
  {
   "cell_type": "code",
   "execution_count": 181,
   "metadata": {},
   "outputs": [
    {
     "name": "stdout",
     "output_type": "stream",
     "text": [
      "[633.23364, 288.43451, 0.92613864]\n"
     ]
    }
   ],
   "source": [
    "print(cloud1[0][0])\n"
   ]
  },
  {
   "cell_type": "code",
   "execution_count": 102,
   "metadata": {},
   "outputs": [],
   "source": [
    "cloud_df = pd.DataFrame(cloud1)\n",
    "yusam_df = pd.DataFrame(yusam1)"
   ]
  },
  {
   "cell_type": "code",
   "execution_count": 172,
   "metadata": {},
   "outputs": [],
   "source": [
    "cloud_df = cloud_df.iloc[:, 0:26]"
   ]
  },
  {
   "cell_type": "code",
   "execution_count": 173,
   "metadata": {},
   "outputs": [],
   "source": [
    "yusam_df = yusam_df.iloc[:, 0:26]"
   ]
  },
  {
   "cell_type": "code",
   "execution_count": 206,
   "metadata": {},
   "outputs": [],
   "source": [
    "def calculate_points(df1, df2):\n",
    "    # Define the point system constants\n",
    "    X_THRESHOLD_1 = 5\n",
    "    X_THRESHOLD_2 = 10\n",
    "    X_THRESHOLD_3 = 20\n",
    "    Y_THRESHOLD_1 = 5\n",
    "    Y_THRESHOLD_2 = 10\n",
    "    Y_THRESHOLD_3 = 20\n",
    "    PROBABILITY_THRESHOLD = 0.4\n",
    "\n",
    "    # Define a variable to store the total points\n",
    "    total_points = 0\n",
    "\n",
    "    # Loop through each row and column in the dataframes\n",
    "    for i in range(len(df1)):\n",
    "        for j in range(len(df1.columns)):\n",
    "            # Skip comparison if either df1 or df2 has a None value for the joint location\n",
    "            if df1.iloc[i, j] is None or df2.iloc[i, j] is None:\n",
    "                continue\n",
    "\n",
    "            # Check if the probability is greater than the threshold\n",
    "            if df1.iloc[i, j][2] >= PROBABILITY_THRESHOLD and df2.iloc[i, j][2] >= PROBABILITY_THRESHOLD:\n",
    "\n",
    "                # Calculate the difference in x and y coordinates\n",
    "                x_diff = abs(df1.iloc[i, j][0] - df2.iloc[i, j][0])\n",
    "                y_diff = abs(df1.iloc[i, j][1] - df2.iloc[i, j][1])\n",
    "\n",
    "                # Check if the difference in x and y coordinates falls within the thresholds and add points accordingly\n",
    "                if x_diff <= X_THRESHOLD_1 and -X_THRESHOLD_1 <= x_diff:\n",
    "                    total_points += 2\n",
    "                elif x_diff <= X_THRESHOLD_2 and -X_THRESHOLD_2 <= x_diff:\n",
    "                    total_points += 1\n",
    "                elif x_diff <= X_THRESHOLD_3 and -X_THRESHOLD_3 <= x_diff:\n",
    "                    total_points += 0.5\n",
    "\n",
    "                if y_diff <= Y_THRESHOLD_1 and -Y_THRESHOLD_1 <= y_diff:\n",
    "                    total_points += 2\n",
    "                elif y_diff <= Y_THRESHOLD_2 and -Y_THRESHOLD_2 <= y_diff:\n",
    "                    total_points += 1\n",
    "                elif y_diff <= Y_THRESHOLD_3 and -Y_THRESHOLD_3 <= y_diff:\n",
    "                    total_points += 0.5\n",
    "\n",
    "    # Return the total points\n",
    "    return total_points\n"
   ]
  },
  {
   "cell_type": "code",
   "execution_count": 205,
   "metadata": {},
   "outputs": [
    {
     "data": {
      "text/plain": [
       "975.5"
      ]
     },
     "execution_count": 205,
     "metadata": {},
     "output_type": "execute_result"
    }
   ],
   "source": [
    "calculate_points(cloud_df, yusam_df)"
   ]
  }
 ],
 "metadata": {
  "kernelspec": {
   "display_name": "Python 3",
   "language": "python",
   "name": "python3"
  },
  "language_info": {
   "codemirror_mode": {
    "name": "ipython",
    "version": 3
   },
   "file_extension": ".py",
   "mimetype": "text/x-python",
   "name": "python",
   "nbconvert_exporter": "python",
   "pygments_lexer": "ipython3",
   "version": "3.7.8rc1"
  },
  "orig_nbformat": 4
 },
 "nbformat": 4,
 "nbformat_minor": 2
}
